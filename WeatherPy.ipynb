{
 "cells": [
  {
   "cell_type": "markdown",
   "metadata": {},
   "source": [
    "# WeatherPy\n",
    "----\n",
    "\n",
    "#### Note\n",
    "* Instructions have been included for each segment. You do not have to follow them exactly, but they are included to help you think through the steps."
   ]
  },
  {
   "cell_type": "code",
   "execution_count": 1,
   "metadata": {
    "scrolled": true
   },
   "outputs": [],
   "source": [
    "# Dependencies and Setup\n",
    "import matplotlib.pyplot as plt\n",
    "import pandas as pd\n",
    "import numpy as np\n",
    "import requests\n",
    "import time\n",
    "from scipy.stats import linregress\n",
    "\n",
    "# Import API key\n",
    "from api_keys import weather_api_key\n",
    "\n",
    "# Incorporated citipy to determine city based on latitude and longitude\n",
    "from citipy import citipy\n",
    "\n",
    "# Output File (CSV)\n",
    "output_data_file = \"output_data/cities.csv\"\n",
    "\n",
    "# Range of latitudes and longitudes\n",
    "lat_range = (-90, 90)\n",
    "lng_range = (-180, 180)\n",
    "\n",
    "url = \"http://api.openweathermap.org/data/2.5/weather?\"\n",
    "units = \"imperial\"\n",
    "query_url = f\"{url}appid={weather_api_key}&units={units}&q=\""
   ]
  },
  {
   "cell_type": "markdown",
   "metadata": {},
   "source": [
    "## Generate Cities List"
   ]
  },
  {
   "cell_type": "code",
   "execution_count": 2,
   "metadata": {},
   "outputs": [
    {
     "data": {
      "text/plain": [
       "615"
      ]
     },
     "execution_count": 2,
     "metadata": {},
     "output_type": "execute_result"
    }
   ],
   "source": [
    "# List for holding lat_lngs and cities\n",
    "lat_lngs = []\n",
    "cities = []\n",
    "\n",
    "# Create a set of random lat and lng combinations\n",
    "lats = np.random.uniform(low=-90.000, high=90.000, size=1500)\n",
    "lngs = np.random.uniform(low=-180.000, high=180.000, size=1500)\n",
    "lat_lngs = zip(lats, lngs)\n",
    "\n",
    "# Identify nearest city for each lat, lng combination\n",
    "for lat_lng in lat_lngs:\n",
    "    city = citipy.nearest_city(lat_lng[0], lat_lng[1]).city_name\n",
    "    \n",
    "    # If the city is unique, then add it to a our cities list\n",
    "    if city not in cities:\n",
    "        cities.append(city)\n",
    "\n",
    "# Print the city count to confirm sufficient count\n",
    "len(cities)"
   ]
  },
  {
   "cell_type": "markdown",
   "metadata": {},
   "source": [
    "### Perform API Calls\n",
    "* Perform a weather check on each city using a series of successive API calls.\n",
    "* Include a print log of each city as it'sbeing processed (with the city number and city name).\n"
   ]
  },
  {
   "cell_type": "code",
   "execution_count": 3,
   "metadata": {},
   "outputs": [
    {
     "name": "stdout",
     "output_type": "stream",
     "text": [
      "processing City aykhal CityID: 2027296\n",
      "processing City punta arenas CityID: 3874787\n",
      "processing City camacha CityID: 2270385\n",
      "processing City new norfolk CityID: 2155415\n",
      "processing City rikitea CityID: 4030556\n",
      "processing City bluff CityID: 2206939\n",
      "processing City yellowknife CityID: 6185377\n",
      "processing City busselton CityID: 2075265\n",
      "processing City srednekolymsk CityID: 2121025\n",
      "processing City clyde river CityID: 5924351\n",
      "processing City butaritari CityID: 2110227\n",
      "processing City omboue CityID: 2396853\n",
      "processing City albany CityID: 5106841\n",
      "processing City ushuaia CityID: 3833367\n",
      "processing City jamestown CityID: 5122534\n",
      "processing City leningradskiy CityID: 2123814\n",
      "processing City dikson CityID: 1507390\n",
      "processing City hobart CityID: 2163355\n",
      "processing City mar del plata CityID: 3430863\n",
      "processing City bambous virieux CityID: 1106677\n",
      "processing City georgetown CityID: 1735106\n",
      "processing City havoysund CityID: 779622\n",
      "processing City vila franca do campo CityID: 3372472\n",
      "processing City mataura CityID: 6201424\n",
      "processing City san ramon CityID: 5392593\n",
      "processing City tasiilaq CityID: 3424607\n",
      "processing City hilo CityID: 5855927\n",
      "processing City baryatino CityID: 578947\n",
      "processing City arrifes CityID: 3373329\n",
      "processing City morondava CityID: 1058381\n",
      "processing City paamiut CityID: 3421193\n",
      "processing City hermanus CityID: 3366880\n",
      "processing City sandy bay CityID: 2206089\n",
      "processing City thompson CityID: 6165406\n",
      "processing City bengkulu CityID: 1649150\n",
      "processing City bredasdorp CityID: 1015776\n",
      "processing City norman wells CityID: 6089245\n",
      "processing City puerto ayora CityID: 3652764\n",
      "processing City beidao CityID: 1816751\n",
      "processing City bethel CityID: 5282297\n",
      "processing City longyearbyen CityID: 2729907\n",
      "processing City karatuzskoye CityID: 1504442\n",
      "processing City upernavik CityID: 3418910\n",
      "processing City roma CityID: 5134295\n",
      "processing City barrow CityID: 5880054\n",
      "processing City tura CityID: 1254046\n",
      "processing City port elizabeth CityID: 964420\n",
      "processing City sitka CityID: 5557293\n",
      "processing City coquimbo CityID: 3893629\n",
      "processing City atuona CityID: 4020109\n",
      "processing City canutama CityID: 3664716\n",
      "processing City buin CityID: 3897774\n",
      "processing City komsomolskiy CityID: 1513491\n",
      "processing City ribeira grande CityID: 3372707\n",
      "processing City kapaa CityID: 5848280\n",
      "processing City otofuke CityID: 2128558\n",
      "processing City alofi CityID: 4036284\n",
      "processing City khani CityID: 610864\n",
      "processing City samarai CityID: 2132606\n",
      "processing City fukue CityID: 1863997\n",
      "processing City lebu CityID: 3883457\n",
      "processing City lorengau CityID: 2092164\n",
      "processing City raudeberg CityID: 3146487\n",
      "processing City cidreira CityID: 3466165\n",
      "processing City qaanaaq CityID: 3831208\n",
      "processing City whyalla CityID: 2058430\n",
      "processing City muroto CityID: 1856392\n",
      "processing City chernyshkovskiy CityID: 568527\n",
      "processing City mount gambier CityID: 2156643\n",
      "processing City tanggu CityID: 1793424\n",
      "processing City guhagar CityID: 1270779\n",
      "processing City luderitz CityID: 3355672\n",
      "processing City vaini CityID: 4032243\n",
      "processing City arlit CityID: 2447513\n",
      "processing City inyonga CityID: 159134\n",
      "processing City oulu CityID: 643493\n",
      "processing City piacabucu CityID: 3454005\n",
      "processing City tuktoyaktuk CityID: 6170031\n",
      "processing City yarada CityID: 1252783\n",
      "processing City torbay CityID: 6167817\n",
      "processing City carnarvon CityID: 2074865\n",
      "processing City san quintin CityID: 3984997\n",
      "processing City liverpool CityID: 2644210\n",
      "processing City cartagena CityID: 3687238\n",
      "processing City hambantota CityID: 1244926\n",
      "processing City ponta delgada CityID: 3372783\n",
      "processing City rafai CityID: 236524\n",
      "processing City wasilla CityID: 5877641\n",
      "processing City ostrovnoy CityID: 556268\n",
      "processing City jinxiang CityID: 1916249\n",
      "processing City fortuna CityID: 5563839\n",
      "processing City rakiv lis CityID: 695826\n",
      "processing City nishihara CityID: 1855342\n",
      "processing City port hardy CityID: 6111862\n",
      "processing City saint-joseph CityID: 6690296\n",
      "processing City kashi CityID: 1280849\n",
      "processing City poum CityID: 2138555\n",
      "processing City tiksi CityID: 2015306\n",
      "processing City chokurdakh CityID: 2126123\n",
      "processing City port alfred CityID: 964432\n",
      "processing City kodiak CityID: 5866583\n",
      "processing City sibolga CityID: 1213855\n",
      "processing City sao joao da barra CityID: 3448903\n",
      "processing City asau CityID: 686090\n",
      "processing City ilhabela CityID: 3461425\n",
      "processing City sao filipe CityID: 3374210\n",
      "processing City kavieng CityID: 2094342\n",
      "processing City khatanga CityID: 2022572\n",
      "processing City sterling CityID: 4787534\n",
      "processing City zinder CityID: 2437798\n",
      "processing City saint-philippe CityID: 935215\n",
      "processing City mantua CityID: 3174050\n",
      "processing City rosario CityID: 3838583\n",
      "processing City turukhansk CityID: 1488903\n",
      "processing City san patricio CityID: 3985168\n",
      "processing City iralaya CityID: 3608828\n",
      "processing City lethem CityID: 3379316\n",
      "processing City nara CityID: 1855612\n",
      "processing City dumas CityID: 5520552\n",
      "processing City le vauclin CityID: 3570392\n",
      "processing City meulaboh CityID: 1214488\n",
      "processing City columbia CityID: 4575352\n",
      "processing City severo-kurilsk CityID: 2121385\n",
      "processing City santa teresa CityID: 3627047\n",
      "processing City ossora CityID: 2122389\n",
      "processing City bulungu CityID: 2316259\n",
      "processing City mahebourg CityID: 934322\n",
      "processing City axim CityID: 2303611\n",
      "processing City abu dhabi CityID: 292968\n",
      "processing City batagay CityID: 2027044\n",
      "processing City juneau CityID: 5554072\n",
      "processing City zyryanka CityID: 2119283\n",
      "processing City yate CityID: 2633406\n",
      "processing City avarua CityID: 4035715\n",
      "processing City pilar CityID: 3392126\n",
      "processing City las margaritas CityID: 3524744\n",
      "processing City progreso CityID: 3521108\n",
      "processing City muros CityID: 3115824\n",
      "processing City caraballeda CityID: 3646767\n",
      "processing City byron bay CityID: 2172880\n",
      "processing City donskoye CityID: 565289\n",
      "processing City mabai CityID: 1818004\n",
      "processing City envira CityID: 3664301\n",
      "processing City olafsvik CityID: 3414079\n",
      "processing City chancay CityID: 3944399\n",
      "processing City lafia CityID: 2332515\n",
      "processing City key largo CityID: 4160795\n",
      "processing City sestri levante CityID: 3166595\n",
      "processing City mackay CityID: 2159220\n",
      "processing City pacific grove CityID: 5380437\n",
      "processing City yulara CityID: 6355222\n",
      "processing City khorramshahr CityID: 127319\n",
      "processing City adrar CityID: 2381972\n",
      "processing City narrabri CityID: 2155742\n",
      "processing City hami CityID: 1529484\n",
      "processing City pevek CityID: 2122090\n",
      "processing City kendari CityID: 1640344\n",
      "processing City chuy CityID: 3443061\n",
      "processing City prince albert CityID: 6113335\n",
      "processing City tocopilla CityID: 3869716\n",
      "processing City vao CityID: 2137773\n",
      "processing City kathmandu CityID: 1283240\n",
      "processing City thomaston CityID: 4226364\n",
      "processing City katsuura CityID: 2112309\n",
      "processing City sayyan CityID: 70979\n",
      "processing City auki CityID: 2109701\n",
      "processing City caravelas CityID: 3466980\n",
      "processing City nikolskoye CityID: 546105\n",
      "processing City dhidhdhoo CityID: 1337612\n",
      "processing City sidi ali CityID: 2487130\n",
      "processing City letterkenny CityID: 2962961\n",
      "processing City dingle CityID: 1714733\n",
      "processing City kazanskaya CityID: 551439\n",
      "processing City vilyuysk CityID: 2013392\n",
      "processing City simao CityID: 1794209\n",
      "processing City erzin CityID: 296852\n",
      "processing City biryusinsk CityID: 1510041\n",
      "processing City vitim CityID: 2013375\n",
      "processing City hay river CityID: 5972762\n",
      "processing City egvekinot CityID: 4031742\n",
      "processing City jacareacanga CityID: 3397763\n",
      "processing City yerbogachen CityID: 2012956\n",
      "processing City macamic CityID: 6062563\n",
      "processing City amapa CityID: 3407762\n",
      "processing City buala CityID: 2109528\n",
      "processing City tottori CityID: 1849892\n",
      "processing City garowe CityID: 58933\n",
      "processing City geraldton CityID: 2070998\n",
      "processing City guerrero negro CityID: 4021858\n",
      "processing City klaksvik CityID: 2618795\n",
      "processing City thinadhoo CityID: 1337610\n",
      "processing City merrill CityID: 5262680\n",
      "processing City comacchio CityID: 3178245\n",
      "processing City liliani CityID: 1171991\n",
      "processing City bull savanna CityID: 3491161\n",
      "processing City kidal CityID: 2455290\n",
      "processing City grand gaube CityID: 934479\n",
      "processing City guarapari CityID: 3461888\n",
      "processing City belaya gora CityID: 2126785\n",
      "processing City zonguldak CityID: 737021\n"
     ]
    },
    {
     "name": "stdout",
     "output_type": "stream",
     "text": [
      "processing City hasaki CityID: 2112802\n",
      "processing City atasu CityID: 1526041\n",
      "processing City souillac CityID: 933995\n",
      "processing City ancud CityID: 3899695\n",
      "processing City tianpeng CityID: 1792916\n",
      "processing City pontes e lacerda CityID: 3453060\n",
      "processing City cape town CityID: 3369157\n",
      "processing City stanisic CityID: 3190042\n",
      "processing City garissa CityID: 197745\n",
      "processing City neijiang CityID: 1799491\n",
      "processing City rudnogorsk CityID: 2017378\n",
      "processing City talnakh CityID: 1490256\n",
      "processing City muisne CityID: 3653967\n",
      "processing City isangel CityID: 2136825\n",
      "processing City tuy hoa CityID: 1563281\n",
      "processing City novyy urengoy CityID: 1496511\n",
      "processing City soyo CityID: 2236967\n",
      "processing City davila CityID: 1715335\n",
      "processing City deputatskiy CityID: 2028164\n",
      "processing City abha CityID: 110690\n",
      "processing City la ronge CityID: 6050066\n",
      "processing City hearst CityID: 5973108\n",
      "processing City aswan CityID: 359792\n",
      "processing City goundam CityID: 2456917\n",
      "processing City kruisfontein CityID: 986717\n",
      "processing City hithadhoo CityID: 1282256\n",
      "processing City lagos CityID: 2332453\n",
      "processing City gat CityID: 293842\n",
      "processing City ponta do sol CityID: 2264557\n",
      "processing City gallup CityID: 5468773\n",
      "processing City bosaso CityID: 64013\n",
      "processing City kyshtovka CityID: 1501000\n",
      "processing City mbanza-ngungu CityID: 2312888\n",
      "processing City buraydah CityID: 107304\n",
      "processing City juybar CityID: 129933\n",
      "processing City wuwei CityID: 1803936\n",
      "processing City poronaysk CityID: 2121909\n",
      "processing City vardo CityID: 777019\n",
      "processing City vista hermosa CityID: 3514633\n",
      "processing City eureka CityID: 5563397\n",
      "processing City narsaq CityID: 3421719\n",
      "processing City catuday CityID: 1717787\n",
      "processing City karratha CityID: 6620339\n",
      "processing City idlib CityID: 169389\n",
      "processing City batemans bay CityID: 2176639\n",
      "processing City iskateley CityID: 866062\n",
      "processing City maracaibo CityID: 3633009\n",
      "processing City saldanha CityID: 3361934\n",
      "processing City husavik CityID: 2629833\n",
      "processing City nanortalik CityID: 3421765\n",
      "processing City jijiga CityID: 333795\n",
      "processing City tumut CityID: 2145875\n",
      "processing City matara CityID: 1235846\n",
      "processing City lodwar CityID: 189280\n",
      "processing City honiara CityID: 2108502\n",
      "processing City santa rosa CityID: 1687894\n",
      "processing City inverell CityID: 2162662\n",
      "processing City katangli CityID: 2122783\n",
      "processing City tucupita CityID: 3625929\n",
      "processing City xichang CityID: 1789647\n",
      "processing City teya CityID: 1489656\n",
      "processing City codrington CityID: 2171099\n",
      "processing City southbridge CityID: 4951594\n",
      "processing City mitu CityID: 3674676\n",
      "processing City great falls CityID: 5655240\n",
      "processing City touros CityID: 3386213\n",
      "processing City luganville CityID: 2136150\n",
      "processing City sapozhok CityID: 498760\n",
      "processing City inhambane CityID: 1045114\n",
      "processing City myaundzha CityID: 2123100\n",
      "processing City kutum CityID: 371745\n",
      "processing City pisco CityID: 3932145\n",
      "processing City pochutla CityID: 3517970\n",
      "processing City zhigansk CityID: 2012530\n",
      "processing City rocha CityID: 3440777\n",
      "processing City anadyr CityID: 2127202\n",
      "processing City kerema CityID: 2094144\n",
      "processing City lompoc CityID: 5367788\n",
      "processing City cherskiy CityID: 2126199\n",
      "processing City nizwa CityID: 286987\n",
      "processing City baltiysk CityID: 2609906\n",
      "processing City ajdabiya CityID: 89113\n",
      "processing City namatanai CityID: 2090021\n",
      "processing City portalegre CityID: 2264508\n",
      "processing City east london CityID: 1006984\n",
      "processing City sines CityID: 2262917\n",
      "processing City kavaratti CityID: 1267390\n",
      "processing City arawa CityID: 2100633\n",
      "processing City college CityID: 5859699\n",
      "processing City los llanos de aridane CityID: 2514651\n",
      "processing City nouadhibou CityID: 2377457\n",
      "processing City signa CityID: 6542006\n",
      "processing City gladstone CityID: 2165478\n",
      "processing City malakal CityID: 370737\n",
      "processing City nantucket CityID: 4944903\n",
      "processing City qaqortoq CityID: 3420846\n",
      "processing City saskylakh CityID: 2017155\n",
      "processing City bivolari CityID: 684635\n",
      "processing City smidovich CityID: 2016412\n",
      "processing City faanui CityID: 4034551\n",
      "processing City canon city CityID: 5416005\n",
      "processing City mayo CityID: 4362001\n",
      "processing City huarmey CityID: 3939168\n",
      "processing City salinopolis CityID: 3389822\n",
      "processing City ballina CityID: 2177069\n",
      "processing City hofn CityID: 2630299\n",
      "processing City yorosso CityID: 2448442\n",
      "processing City puerto el triunfo CityID: 3584003\n",
      "processing City filingue CityID: 2444995\n",
      "processing City lhokseumawe CityID: 1214658\n",
      "processing City najran CityID: 103630\n",
      "processing City sinnamary CityID: 3380290\n",
      "processing City netrakona CityID: 1185116\n",
      "processing City khanpur CityID: 1174167\n",
      "processing City cayenne CityID: 3382160\n",
      "processing City dunedin CityID: 2191562\n",
      "processing City fauske CityID: 3157781\n",
      "processing City barceloneta CityID: 4562768\n",
      "processing City shakiso CityID: 328716\n",
      "processing City oktyabrskoye CityID: 515805\n",
      "processing City laguna CityID: 5364271\n",
      "processing City medina CityID: 109223\n",
      "processing City nemuro CityID: 2128975\n",
      "processing City arraial do cabo CityID: 3471451\n",
      "processing City kirakira CityID: 2178753\n",
      "processing City bella union CityID: 3443631\n",
      "processing City mangan CityID: 1263776\n",
      "processing City viedma CityID: 3832899\n",
      "processing City awassa CityID: 343137\n",
      "processing City cockburn town CityID: 3576994\n",
      "processing City ivanivka CityID: 707453\n",
      "processing City kanniyakumari CityID: 1268008\n",
      "processing City vostok CityID: 2013279\n",
      "processing City saint-pierre CityID: 935214\n",
      "processing City la asuncion CityID: 3480908\n",
      "processing City saysain CityID: 1687058\n",
      "processing City cabo san lucas CityID: 3985710\n",
      "processing City fairbanks CityID: 5861897\n",
      "processing City svobodnyy CityID: 2015833\n",
      "processing City lieksa CityID: 648090\n",
      "processing City bathsheba CityID: 3374083\n",
      "processing City saint george CityID: 5546220\n",
      "processing City kununurra CityID: 2068110\n",
      "processing City harper CityID: 2276492\n",
      "processing City lincoln CityID: 5072006\n",
      "processing City mahalingpur CityID: 1264457\n",
      "processing City smithers CityID: 6149996\n",
      "processing City biltine CityID: 244878\n",
      "processing City port lincoln CityID: 2063036\n",
      "processing City bilma CityID: 2446796\n",
      "processing City ilulissat CityID: 3423146\n",
      "processing City kitimat CityID: 5993072\n",
      "processing City liaocheng CityID: 1803834\n",
      "processing City bud CityID: 4255151\n",
      "processing City hualmay CityID: 3939761\n",
      "processing City namibe CityID: 3347019\n",
      "processing City whitehorse CityID: 6180550\n",
      "processing City port-gentil CityID: 2396518\n",
      "processing City veraval CityID: 1253237\n",
      "processing City bejar CityID: 3128382\n",
      "processing City salalah CityID: 286621\n",
      "processing City frolovo CityID: 562389\n",
      "processing City el cobre CityID: 3561408\n",
      "processing City ous CityID: 1495812\n",
      "processing City coihaique CityID: 3894426\n",
      "processing City camana CityID: 3945985\n",
      "processing City kagoro CityID: 2335614\n",
      "processing City henties bay CityID: 3356832\n",
      "processing City riyadh CityID: 108410\n",
      "processing City tuatapere CityID: 2180815\n",
      "processing City ola CityID: 2122574\n",
      "processing City victoria CityID: 1819729\n",
      "processing City isla vista CityID: 5359864\n",
      "processing City provideniya CityID: 4031574\n",
      "processing City antipino CityID: 1511538\n",
      "processing City kahului CityID: 5847411\n",
      "processing City liancheng CityID: 1804119\n",
      "processing City beroroha CityID: 1066831\n",
      "processing City itoman CityID: 1861280\n",
      "processing City odweyne CityID: 53372\n",
      "processing City skotterud CityID: 3138532\n",
      "processing City marsh harbour CityID: 3571913\n",
      "processing City luneville CityID: 2997110\n",
      "processing City matay CityID: 352628\n",
      "processing City barabai CityID: 1650064\n",
      "processing City rio cuarto CityID: 3838874\n",
      "processing City plettenberg bay CityID: 964712\n",
      "processing City ejura CityID: 2301217\n",
      "processing City san jose CityID: 5392171\n",
      "processing City arcachon CityID: 6621469\n",
      "processing City hailar CityID: 2037078\n",
      "processing City ust-kuyga CityID: 2013921\n",
      "processing City sechura CityID: 3691954\n",
      "processing City alyangula CityID: 2079582\n",
      "processing City cam ranh CityID: 1586350\n",
      "processing City yizheng CityID: 1802013\n",
      "processing City san juan CityID: 3837213\n",
      "processing City villarrobledo CityID: 2509491\n",
      "processing City tiznit CityID: 2527087\n",
      "processing City binzhou CityID: 1816336\n",
      "processing City shahreza CityID: 417594\n"
     ]
    },
    {
     "name": "stdout",
     "output_type": "stream",
     "text": [
      "processing City collie CityID: 2074113\n",
      "processing City yuzhnyy CityID: 1485627\n",
      "processing City airai CityID: 1651810\n",
      "processing City lamar CityID: 4705086\n",
      "processing City revda CityID: 502011\n",
      "processing City hudson bay CityID: 5978133\n",
      "processing City lavrentiya CityID: 4031637\n",
      "processing City rafraf CityID: 2467813\n",
      "processing City castro CityID: 3466704\n",
      "processing City padang CityID: 1633419\n",
      "processing City wattegama CityID: 1224061\n",
      "processing City pajapan CityID: 3522186\n",
      "processing City masterton CityID: 2206890\n",
      "processing City broken hill CityID: 2173911\n",
      "processing City portland CityID: 5746545\n",
      "processing City kaitangata CityID: 2208248\n",
      "processing City barra do garcas CityID: 3470709\n",
      "processing City champerico CityID: 3598787\n",
      "processing City naryan-mar CityID: 523392\n",
      "processing City broome CityID: 5110365\n",
      "processing City sungai padi CityID: 1606050\n",
      "processing City berlevag CityID: 780687\n",
      "processing City bilibino CityID: 2126682\n",
      "processing City bograd CityID: 1509847\n",
      "processing City saint anthony CityID: 5044290\n",
      "processing City terrace bay CityID: 6162951\n",
      "processing City tygda CityID: 2014743\n",
      "processing City terrace CityID: 6162949\n",
      "processing City tahe CityID: 2034615\n",
      "processing City lolodorf CityID: 2229267\n",
      "processing City imbituba CityID: 3461370\n",
      "processing City karlstad CityID: 2701680\n",
      "processing City tortoli CityID: 2522890\n",
      "processing City faya CityID: 110690\n",
      "processing City aleksandrov gay CityID: 583345\n",
      "processing City hirara CityID: 1862505\n",
      "processing City svetlogorsk CityID: 10722858\n",
      "processing City fortuna foothills CityID: 5295143\n",
      "processing City qandala CityID: 53157\n",
      "processing City kieta CityID: 2094027\n",
      "processing City ulladulla CityID: 2145554\n",
      "processing City leeton CityID: 2160413\n",
      "processing City boquira CityID: 3469190\n",
      "processing City fuyu CityID: 2037335\n",
      "processing City kenai CityID: 5866063\n",
      "processing City ust-nera CityID: 2120048\n",
      "processing City point pedro CityID: 1229989\n",
      "processing City pemangkat CityID: 1631637\n",
      "processing City biak CityID: 1637001\n",
      "processing City tazovskiy CityID: 1489853\n",
      "processing City bergen CityID: 3161733\n",
      "processing City dzhebariki-khaya CityID: 2024626\n",
      "processing City kloulklubed CityID: 7671223\n",
      "processing City tabuk CityID: 1684803\n",
      "processing City amalapuram CityID: 1278935\n",
      "processing City balkhash CityID: 1525798\n",
      "processing City sao gabriel da cachoeira CityID: 3662342\n",
      "processing City dudinka CityID: 1507116\n",
      "processing City araouane CityID: 2460954\n",
      "processing City cap malheureux CityID: 934649\n",
      "processing City constitucion CityID: 3893726\n",
      "processing City eyl CityID: 60019\n",
      "processing City muzhi CityID: 1498161\n",
      "processing City bintulu CityID: 1737486\n",
      "processing City mehamn CityID: 778707\n",
      "processing City ha giang CityID: 1581349\n",
      "processing City ust-kulom CityID: 478050\n",
      "processing City taloqan CityID: 1123004\n",
      "processing City ambon CityID: 1651531\n",
      "processing City teahupoo CityID: 4033543\n",
      "processing City krasnovishersk CityID: 542184\n",
      "processing City iquique CityID: 3887127\n",
      "processing City labuhan CityID: 8079926\n",
      "processing City carmelo CityID: 3443341\n",
      "processing City sanchi CityID: 1257479\n",
      "processing City ohara CityID: 2111495\n",
      "processing City looc CityID: 1705645\n",
      "processing City pangnirtung CityID: 6096551\n",
      "processing City port macquarie CityID: 2152659\n",
      "processing City saint marys CityID: 4220629\n",
      "processing City sakaraha CityID: 1057095\n",
      "processing City mariestad CityID: 2692613\n",
      "processing City stranda CityID: 3135813\n",
      "processing City kyrksaeterora CityID: 3148602\n",
      "processing City lumphat CityID: 1830377\n",
      "processing City nyahururu CityID: 183027\n",
      "processing City tessalit CityID: 2449893\n",
      "processing City barkot CityID: 1276917\n",
      "processing City mount isa CityID: 2065594\n",
      "processing City sao felix do xingu CityID: 3388847\n",
      "processing City mandalgovi CityID: 2030065\n",
      "processing City mitsamiouli CityID: 921786\n",
      "processing City dwarka CityID: 1272140\n",
      "processing City bitburg CityID: 2948184\n",
      "processing City saint-augustin CityID: 6137462\n",
      "processing City kedrovyy CityID: 1538641\n",
      "processing City villa carlos paz CityID: 3832791\n",
      "processing City noyabrsk CityID: 1496503\n",
      "processing City dakar CityID: 2253354\n",
      "processing City kalmunai CityID: 1242110\n",
      "processing City yaan CityID: 2338660\n",
      "processing City maksatikha CityID: 531979\n",
      "processing City leshukonskoye CityID: 535839\n",
      "processing City yingkou CityID: 2033370\n",
      "processing City carazinho CityID: 3466978\n",
      "processing City port blair CityID: 1259385\n",
      "processing City wanning CityID: 1791779\n",
      "processing City nisia floresta CityID: 3393922\n",
      "processing City troitskoye CityID: 1489209\n",
      "processing City yumen CityID: 1528998\n",
      "processing City ust-ilimsk CityID: 2013952\n",
      "processing City kondinskoye CityID: 1502697\n",
      "processing City kamenka CityID: 553766\n",
      "processing City whitecourt CityID: 6180285\n",
      "processing City san jose de guanipa CityID: 3628142\n",
      "processing City flinders CityID: 6255012\n",
      "processing City gornopravdinsk CityID: 1506268\n",
      "processing City marsa matruh CityID: 352733\n",
      "processing City ixtapa CityID: 4004293\n",
      "processing City south venice CityID: 4173593\n",
      "processing City druzhba CityID: 709584\n",
      "processing City olds CityID: 6093347\n",
      "processing City sorong CityID: 1626542\n",
      "processing City chicama CityID: 3698359\n",
      "processing City naze CityID: 1855540\n",
      "processing City walvis bay CityID: 3359638\n",
      "processing City alice springs CityID: 2077895\n",
      "processing City waingapu CityID: 1622318\n",
      "processing City muncar CityID: 1634718\n",
      "processing City ketchikan CityID: 5554428\n",
      "processing City atamanskaya CityID: 580453\n",
      "processing City sitrah CityID: 290104\n",
      "processing City kimbe CityID: 2093967\n",
      "processing City morgan city CityID: 4333811\n",
      "processing City halifax CityID: 6324729\n",
      "processing City san pedro CityID: 1688781\n",
      "processing City vestmannaeyjar CityID: 3412093\n",
      "processing City krasnoselkup CityID: 1502073\n",
      "processing City arman CityID: 2127060\n",
      "processing City dondo CityID: 1024696\n",
      "processing City cehegin CityID: 2519651\n",
      "processing City san carlos de bariloche CityID: 7647007\n",
      "processing City fallon CityID: 5503914\n",
      "processing City pamyat parizhskoy kommuny CityID: 512947\n",
      "processing City khadzhalmakhi CityID: 550844\n",
      "processing City sembabule CityID: 226361\n",
      "processing City santa vitoria do palmar CityID: 3449747\n",
      "processing City derzhavinsk CityID: 1524606\n",
      "processing City bikaner CityID: 1275665\n",
      "processing City neuquen CityID: 3843123\n",
      "processing City shiraz CityID: 115019\n",
      "processing City orkney CityID: 967476\n",
      "processing City omsukchan CityID: 2122493\n",
      "processing City banjar CityID: 1650232\n",
      "processing City praya CityID: 3374333\n",
      "processing City mpika CityID: 905846\n",
      "processing City dedza CityID: 930025\n",
      "processing City pell city CityID: 4082589\n",
      "processing City morro bay CityID: 5374920\n",
      "processing City bartica CityID: 3379507\n",
      "processing City nagar CityID: 1262253\n",
      "processing City coos bay CityID: 5720495\n",
      "processing City nanchang CityID: 1800163\n",
      "processing City bonavista CityID: 5905393\n",
      "processing City zambezi CityID: 895953\n",
      "processing City pathein CityID: 1328421\n"
     ]
    }
   ],
   "source": [
    "Temp = []\n",
    "MaxTemp = []\n",
    "Humidity = []\n",
    "Cloudiness = []\n",
    "WindSpeed = []\n",
    "Latitude = []\n",
    "Longitude = []\n",
    "CityID = []\n",
    "City = []\n",
    "LatLong = []\n",
    "CountryCode = []\n",
    "\n",
    "for city in cities:\n",
    "    response = requests.get(query_url + city).json()\n",
    "    if response['cod'] == 200:\n",
    "        Latitude.append(response['coord']['lat'])\n",
    "        Longitude.append(response['coord']['lon'])\n",
    "        Humidity.append(response['main']['humidity'])\n",
    "        Temp.append(response['main']['temp'])\n",
    "        Cloudiness.append(response['clouds']['all'])\n",
    "        WindSpeed.append(response['wind']['speed'])\n",
    "        CityID.append(response['id'])\n",
    "        City.append(response['name'])\n",
    "        MaxTemp.append(response['main']['temp_max'])\n",
    "        LatLong.append(response['coord'])\n",
    "        CountryCode.append(response['sys']['country'])\n",
    "        print(f\"processing City {city} CityID: {response['id']}\")"
   ]
  },
  {
   "cell_type": "markdown",
   "metadata": {},
   "source": [
    "### Convert Raw Data to DataFrame\n",
    "* Export the city data into a .csv.\n",
    "* Display the DataFrame"
   ]
  },
  {
   "cell_type": "code",
   "execution_count": 4,
   "metadata": {},
   "outputs": [],
   "source": [
    "city_df = pd.DataFrame({'CityID' : CityID,\n",
    "                    'City' : City,\n",
    "                    'Humidity' : Humidity,\n",
    "                    'Temp' : Temp,\n",
    "                    'Latitude' : Latitude,\n",
    "                    'Cloudiness' : Cloudiness,\n",
    "                    'WindSpeed' : WindSpeed,\n",
    "                    'MaxTemp' : MaxTemp,\n",
    "                    'Longitude' : Longitude,\n",
    "                     'LatLong' : LatLong,\n",
    "                     'CountryCode' : CountryCode\n",
    "                       })\n"
   ]
  },
  {
   "cell_type": "code",
   "execution_count": 5,
   "metadata": {},
   "outputs": [],
   "source": [
    "city_df\n",
    "\n",
    "city_df.to_csv('city_df.csv')"
   ]
  },
  {
   "cell_type": "markdown",
   "metadata": {},
   "source": [
    "### Plotting the Data\n",
    "* Use proper labeling of the plots using plot titles (including date of analysis) and axes labels.\n",
    "* Save the plotted figures as .pngs."
   ]
  },
  {
   "cell_type": "markdown",
   "metadata": {},
   "source": [
    "#### Latitude vs. Temperature Plot"
   ]
  },
  {
   "cell_type": "code",
   "execution_count": 6,
   "metadata": {
    "scrolled": true
   },
   "outputs": [
    {
     "data": {
      "image/png": "[encoded data removed]",
      "text/plain": [
       "<Figure size 432x288 with 1 Axes>"
      ]
     },
     "metadata": {
      "needs_background": "light"
     },
     "output_type": "display_data"
    },
    {
     "data": {
      "text/plain": [
       "<Figure size 432x288 with 0 Axes>"
      ]
     },
     "metadata": {},
     "output_type": "display_data"
    }
   ],
   "source": [
    "x_values = city_df['Latitude']\n",
    "y_values = city_df['Temp']\n",
    "plt.scatter(x_values,y_values)\n",
    "plt.xlabel('Latitude')\n",
    "plt.ylabel('Temperature')\n",
    "plt.title('Latitude vs. Temp(f) Jan.18, 2020')\n",
    "plt.show()\n",
    "plt.savefig('Lat v Temp.png')"
   ]
  },
  {
   "cell_type": "markdown",
   "metadata": {},
   "source": [
    "#### Latitude vs. Humidity Plot"
   ]
  },
  {
   "cell_type": "code",
   "execution_count": 7,
   "metadata": {},
   "outputs": [
    {
     "data": {
      "image/png": "[encoded data removed]",
      "text/plain": [
       "<Figure size 432x288 with 1 Axes>"
      ]
     },
     "metadata": {
      "needs_background": "light"
     },
     "output_type": "display_data"
    },
    {
     "data": {
      "text/plain": [
       "<Figure size 432x288 with 0 Axes>"
      ]
     },
     "metadata": {},
     "output_type": "display_data"
    }
   ],
   "source": [
    "x_values = city_df['Latitude']\n",
    "y_values = city_df['Humidity']\n",
    "plt.scatter(x_values,y_values)\n",
    "plt.xlabel('Latitude')\n",
    "plt.ylabel('Humidity')\n",
    "plt.title('Latitude vs. Humidity(%) Jan.18, 2020')\n",
    "plt.show()\n",
    "plt.savefig('Lat v Hum.png')"
   ]
  },
  {
   "cell_type": "markdown",
   "metadata": {},
   "source": [
    "#### Latitude vs. Cloudiness Plot"
   ]
  },
  {
   "cell_type": "code",
   "execution_count": 8,
   "metadata": {},
   "outputs": [
    {
     "data": {
      "image/png": "[encoded data removed]",
      "text/plain": [
       "<Figure size 432x288 with 1 Axes>"
      ]
     },
     "metadata": {
      "needs_background": "light"
     },
     "output_type": "display_data"
    },
    {
     "data": {
      "text/plain": [
       "<Figure size 432x288 with 0 Axes>"
      ]
     },
     "metadata": {},
     "output_type": "display_data"
    }
   ],
   "source": [
    "x_values = city_df['Latitude']\n",
    "y_values = city_df['Cloudiness']\n",
    "plt.scatter(x_values,y_values)\n",
    "plt.xlabel('Latitude')\n",
    "plt.ylabel('Cloudiness')\n",
    "plt.title('Latitude vs. Cloudiness(%) Jan.18, 2020')\n",
    "plt.show()\n",
    "plt.savefig('Lat v Cloud.png')"
   ]
  },
  {
   "cell_type": "markdown",
   "metadata": {},
   "source": [
    "#### Latitude vs. Wind Speed Plot"
   ]
  },
  {
   "cell_type": "code",
   "execution_count": 9,
   "metadata": {},
   "outputs": [
    {
     "data": {
      "image/png": "[encoded data removed]",
      "text/plain": [
       "<Figure size 432x288 with 1 Axes>"
      ]
     },
     "metadata": {
      "needs_background": "light"
     },
     "output_type": "display_data"
    },
    {
     "data": {
      "text/plain": [
       "<Figure size 432x288 with 0 Axes>"
      ]
     },
     "metadata": {},
     "output_type": "display_data"
    }
   ],
   "source": [
    "x_values = city_df['Latitude']\n",
    "y_values = city_df['WindSpeed']\n",
    "plt.scatter(x_values,y_values)\n",
    "plt.xlabel('Latitude')\n",
    "plt.ylabel('WindSpeed')\n",
    "plt.title('Latitude vs. WindSpeed(mph) Jan.18, 2020')\n",
    "plt.show()\n",
    "plt.savefig('Lat v Wind.png')"
   ]
  },
  {
   "cell_type": "markdown",
   "metadata": {},
   "source": [
    "## Linear Regression"
   ]
  },
  {
   "cell_type": "code",
   "execution_count": 10,
   "metadata": {},
   "outputs": [],
   "source": [
    "# OPTIONAL: Create a function to create Linear Regression plots\n"
   ]
  },
  {
   "cell_type": "code",
   "execution_count": 11,
   "metadata": {},
   "outputs": [
    {
     "data": {
      "text/html": [
       "<div>\n",
       "<style scoped>\n",
       "    .dataframe tbody tr th:only-of-type {\n",
       "        vertical-align: middle;\n",
       "    }\n",
       "\n",
       "    .dataframe tbody tr th {\n",
       "        vertical-align: top;\n",
       "    }\n",
       "\n",
       "    .dataframe thead th {\n",
       "        text-align: right;\n",
       "    }\n",
       "</style>\n",
       "<table border=\"1\" class=\"dataframe\">\n",
       "  <thead>\n",
       "    <tr style=\"text-align: right;\">\n",
       "      <th></th>\n",
       "      <th>CityID</th>\n",
       "      <th>City</th>\n",
       "      <th>Humidity</th>\n",
       "      <th>Temp</th>\n",
       "      <th>Latitude</th>\n",
       "      <th>Cloudiness</th>\n",
       "      <th>WindSpeed</th>\n",
       "      <th>MaxTemp</th>\n",
       "      <th>Longitude</th>\n",
       "      <th>LatLong</th>\n",
       "      <th>CountryCode</th>\n",
       "    </tr>\n",
       "  </thead>\n",
       "  <tbody>\n",
       "    <tr>\n",
       "      <td>1</td>\n",
       "      <td>3874787</td>\n",
       "      <td>Punta Arenas</td>\n",
       "      <td>81</td>\n",
       "      <td>50.00</td>\n",
       "      <td>-53.15</td>\n",
       "      <td>75</td>\n",
       "      <td>13.87</td>\n",
       "      <td>50.00</td>\n",
       "      <td>-70.92</td>\n",
       "      <td>{'lon': -70.92, 'lat': -53.15}</td>\n",
       "      <td>CL</td>\n",
       "    </tr>\n",
       "    <tr>\n",
       "      <td>3</td>\n",
       "      <td>2155415</td>\n",
       "      <td>New Norfolk</td>\n",
       "      <td>67</td>\n",
       "      <td>60.24</td>\n",
       "      <td>-42.78</td>\n",
       "      <td>75</td>\n",
       "      <td>9.17</td>\n",
       "      <td>62.60</td>\n",
       "      <td>147.06</td>\n",
       "      <td>{'lon': 147.06, 'lat': -42.78}</td>\n",
       "      <td>AU</td>\n",
       "    </tr>\n",
       "    <tr>\n",
       "      <td>4</td>\n",
       "      <td>4030556</td>\n",
       "      <td>Rikitea</td>\n",
       "      <td>76</td>\n",
       "      <td>79.30</td>\n",
       "      <td>-23.12</td>\n",
       "      <td>2</td>\n",
       "      <td>11.79</td>\n",
       "      <td>79.30</td>\n",
       "      <td>-134.97</td>\n",
       "      <td>{'lon': -134.97, 'lat': -23.12}</td>\n",
       "      <td>PF</td>\n",
       "    </tr>\n",
       "    <tr>\n",
       "      <td>5</td>\n",
       "      <td>2206939</td>\n",
       "      <td>Bluff</td>\n",
       "      <td>74</td>\n",
       "      <td>64.00</td>\n",
       "      <td>-46.60</td>\n",
       "      <td>56</td>\n",
       "      <td>14.00</td>\n",
       "      <td>64.00</td>\n",
       "      <td>168.33</td>\n",
       "      <td>{'lon': 168.33, 'lat': -46.6}</td>\n",
       "      <td>NZ</td>\n",
       "    </tr>\n",
       "    <tr>\n",
       "      <td>7</td>\n",
       "      <td>2075265</td>\n",
       "      <td>Busselton</td>\n",
       "      <td>41</td>\n",
       "      <td>71.65</td>\n",
       "      <td>-33.65</td>\n",
       "      <td>100</td>\n",
       "      <td>8.21</td>\n",
       "      <td>75.99</td>\n",
       "      <td>115.33</td>\n",
       "      <td>{'lon': 115.33, 'lat': -33.65}</td>\n",
       "      <td>AU</td>\n",
       "    </tr>\n",
       "  </tbody>\n",
       "</table>\n",
       "</div>"
      ],
      "text/plain": [
       "    CityID          City  Humidity   Temp  Latitude  Cloudiness  WindSpeed  \\\n",
       "1  3874787  Punta Arenas        81  50.00    -53.15          75      13.87   \n",
       "3  2155415   New Norfolk        67  60.24    -42.78          75       9.17   \n",
       "4  4030556       Rikitea        76  79.30    -23.12           2      11.79   \n",
       "5  2206939         Bluff        74  64.00    -46.60          56      14.00   \n",
       "7  2075265     Busselton        41  71.65    -33.65         100       8.21   \n",
       "\n",
       "   MaxTemp  Longitude                          LatLong CountryCode  \n",
       "1    50.00     -70.92   {'lon': -70.92, 'lat': -53.15}          CL  \n",
       "3    62.60     147.06   {'lon': 147.06, 'lat': -42.78}          AU  \n",
       "4    79.30    -134.97  {'lon': -134.97, 'lat': -23.12}          PF  \n",
       "5    64.00     168.33    {'lon': 168.33, 'lat': -46.6}          NZ  \n",
       "7    75.99     115.33   {'lon': 115.33, 'lat': -33.65}          AU  "
      ]
     },
     "execution_count": 11,
     "metadata": {},
     "output_type": "execute_result"
    }
   ],
   "source": [
    "# Create Northern and Southern Hemisphere DataFrames\n",
    "NorthHemi_df = city_df[city_df['Latitude']>0]\n",
    "SouthHemi_df = city_df[city_df['Latitude']<0]\n",
    "\n",
    "NorthHemi_df.head()\n",
    "SouthHemi_df.head()"
   ]
  },
  {
   "cell_type": "markdown",
   "metadata": {},
   "source": [
    "####  Northern Hemisphere - Max Temp vs. Latitude Linear Regression"
   ]
  },
  {
   "cell_type": "code",
   "execution_count": 12,
   "metadata": {},
   "outputs": [
    {
     "name": "stdout",
     "output_type": "stream",
     "text": [
      "0       3.626729\n",
      "2      46.861368\n",
      "6       8.275897\n",
      "8       1.722408\n",
      "9      -2.243831\n",
      "         ...    \n",
      "561    54.281651\n",
      "562    33.347260\n",
      "563    52.639995\n",
      "564    26.412907\n",
      "566    68.268555\n",
      "Name: Latitude, Length: 403, dtype: float64\n",
      "y = -1.31x +90.31\n",
      "The r-squared is: 0.7603334939665131\n"
     ]
    },
    {
     "data": {
      "image/png": "[encoded data removed]",
      "text/plain": [
       "<Figure size 432x288 with 1 Axes>"
      ]
     },
     "metadata": {
      "needs_background": "light"
     },
     "output_type": "display_data"
    },
    {
     "data": {
      "text/plain": [
       "<Figure size 432x288 with 0 Axes>"
      ]
     },
     "metadata": {},
     "output_type": "display_data"
    }
   ],
   "source": [
    "x_values = NorthHemi_df['Latitude']\n",
    "y_values = NorthHemi_df['MaxTemp']\n",
    "\n",
    "(slope, intercept, rvalue, pvalue, stderr) = linregress(x_values, y_values)\n",
    "\n",
    "# Get regression values\n",
    "regress_values = x_values * slope + intercept\n",
    "print(regress_values)\n",
    "\n",
    "line_eq = \"y = \" + str(round(slope,2)) + \"x +\" + str(round(intercept,2))\n",
    "print(line_eq)\n",
    "\n",
    "plt.scatter(x_values,y_values)\n",
    "plt.plot(x_values,regress_values,\"r-\")\n",
    "\n",
    "# Label plot and annotate the line equation\n",
    "plt.xlabel('Latitude')\n",
    "plt.ylabel('Max Temperature')\n",
    "plt.annotate(line_eq,(-1,0),fontsize=15,color=\"red\")\n",
    "#plt.annotate lets you put text in graph\n",
    "\n",
    "# Print r square value\n",
    "print(f\"The r-squared is: {rvalue*rvalue}\")\n",
    "\n",
    "# Show plot\n",
    "plt.show()\n",
    "plt.savefig('NH Temp Lat.png')"
   ]
  },
  {
   "cell_type": "markdown",
   "metadata": {},
   "source": [
    "####  Southern Hemisphere - Max Temp vs. Latitude Linear Regression"
   ]
  },
  {
   "cell_type": "code",
   "execution_count": 13,
   "metadata": {},
   "outputs": [
    {
     "name": "stdout",
     "output_type": "stream",
     "text": [
      "1      66.755498\n",
      "3      69.767174\n",
      "4      75.476871\n",
      "5      68.657762\n",
      "7      72.418727\n",
      "         ...    \n",
      "552    74.355842\n",
      "554    79.812872\n",
      "556    78.755735\n",
      "557    78.015159\n",
      "565    78.259114\n",
      "Name: Latitude, Length: 164, dtype: float64\n",
      "y = 0.29x +82.19\n",
      "The r-squared is: 0.13935410305523535\n"
     ]
    },
    {
     "data": {
      "image/png": "[encoded data removed]",
      "text/plain": [
       "<Figure size 432x288 with 1 Axes>"
      ]
     },
     "metadata": {
      "needs_background": "light"
     },
     "output_type": "display_data"
    },
    {
     "data": {
      "text/plain": [
       "<Figure size 432x288 with 0 Axes>"
      ]
     },
     "metadata": {},
     "output_type": "display_data"
    }
   ],
   "source": [
    "x_values = SouthHemi_df['Latitude']\n",
    "y_values = SouthHemi_df['MaxTemp']\n",
    "\n",
    "(slope, intercept, rvalue, pvalue, stderr) = linregress(x_values, y_values)\n",
    "\n",
    "# Get regression values\n",
    "regress_values = x_values * slope + intercept\n",
    "print(regress_values)\n",
    "\n",
    "line_eq = \"y = \" + str(round(slope,2)) + \"x +\" + str(round(intercept,2))\n",
    "print(line_eq)\n",
    "\n",
    "plt.scatter(x_values,y_values)\n",
    "plt.plot(x_values,regress_values,\"r-\")\n",
    "\n",
    "# Label plot and annotate the line equation\n",
    "plt.xlabel('Latitude')\n",
    "plt.ylabel('Max Temperature')\n",
    "plt.annotate(line_eq,(-30,50),fontsize=15,color=\"red\")\n",
    "#plt.annotate lets you put text in graph\n",
    "\n",
    "# Print r square value\n",
    "print(f\"The r-squared is: {rvalue*rvalue}\")\n",
    "\n",
    "# Show plot\n",
    "plt.show()\n",
    "plt.savefig('SH Temp Lat.png')"
   ]
  },
  {
   "cell_type": "markdown",
   "metadata": {},
   "source": [
    "####  Northern Hemisphere - Humidity (%) vs. Latitude Linear Regression"
   ]
  },
  {
   "cell_type": "code",
   "execution_count": 14,
   "metadata": {},
   "outputs": [
    {
     "name": "stdout",
     "output_type": "stream",
     "text": [
      "0      84.844033\n",
      "2      73.812984\n",
      "6      83.657826\n",
      "8      85.329908\n",
      "9      86.341869\n",
      "         ...    \n",
      "561    71.919745\n",
      "562    77.261025\n",
      "563    72.338604\n",
      "564    79.030281\n",
      "566    68.351074\n",
      "Name: Latitude, Length: 403, dtype: float64\n",
      "y = 0.34x +62.73\n",
      "The r-squared is: 0.12913534738471644\n"
     ]
    },
    {
     "data": {
      "image/png": "[encoded data removed]",
      "text/plain": [
       "<Figure size 432x288 with 1 Axes>"
      ]
     },
     "metadata": {
      "needs_background": "light"
     },
     "output_type": "display_data"
    },
    {
     "data": {
      "text/plain": [
       "<Figure size 432x288 with 0 Axes>"
      ]
     },
     "metadata": {},
     "output_type": "display_data"
    }
   ],
   "source": [
    "x_values = NorthHemi_df['Latitude']\n",
    "y_values = NorthHemi_df['Humidity']\n",
    "\n",
    "(slope, intercept, rvalue, pvalue, stderr) = linregress(x_values, y_values)\n",
    "\n",
    "# Get regression values\n",
    "regress_values = x_values * slope + intercept\n",
    "print(regress_values)\n",
    "\n",
    "line_eq = \"y = \" + str(round(slope,2)) + \"x +\" + str(round(intercept,2))\n",
    "print(line_eq)\n",
    "\n",
    "plt.scatter(x_values,y_values)\n",
    "plt.plot(x_values,regress_values,\"r-\")\n",
    "\n",
    "# Label plot and annotate the line equation\n",
    "plt.xlabel('Latitude')\n",
    "plt.ylabel('Humidity (%)')\n",
    "plt.annotate(line_eq,(45,25),fontsize=15,color=\"red\")\n",
    "#plt.annotate lets you put text in graph\n",
    "\n",
    "# Print r square value\n",
    "print(f\"The r-squared is: {rvalue*rvalue}\")\n",
    "\n",
    "# Show plot\n",
    "plt.show()\n",
    "plt.savefig('NH Hum Lat.png')"
   ]
  },
  {
   "cell_type": "markdown",
   "metadata": {},
   "source": [
    "####  Southern Hemisphere - Humidity (%) vs. Latitude Linear Regression"
   ]
  },
  {
   "cell_type": "code",
   "execution_count": 15,
   "metadata": {},
   "outputs": [
    {
     "name": "stdout",
     "output_type": "stream",
     "text": [
      "1      59.556930\n",
      "3      64.020389\n",
      "4      72.482453\n",
      "5      62.376183\n",
      "7      67.950126\n",
      "         ...    \n",
      "552    70.821030\n",
      "554    78.908629\n",
      "556    77.341899\n",
      "557    76.244327\n",
      "565    76.605880\n",
      "Name: Latitude, Length: 164, dtype: float64\n",
      "y = 0.43x +82.43\n",
      "The r-squared is: 0.08671819108496738\n"
     ]
    },
    {
     "data": {
      "image/png": "[encoded data removed]",
      "text/plain": [
       "<Figure size 432x288 with 1 Axes>"
      ]
     },
     "metadata": {
      "needs_background": "light"
     },
     "output_type": "display_data"
    },
    {
     "data": {
      "text/plain": [
       "<Figure size 432x288 with 0 Axes>"
      ]
     },
     "metadata": {},
     "output_type": "display_data"
    }
   ],
   "source": [
    "x_values = SouthHemi_df['Latitude']\n",
    "y_values = SouthHemi_df['Humidity']\n",
    "\n",
    "(slope, intercept, rvalue, pvalue, stderr) = linregress(x_values, y_values)\n",
    "\n",
    "# Get regression values\n",
    "regress_values = x_values * slope + intercept\n",
    "print(regress_values)\n",
    "\n",
    "line_eq = \"y = \" + str(round(slope,2)) + \"x +\" + str(round(intercept,2))\n",
    "print(line_eq)\n",
    "\n",
    "plt.scatter(x_values,y_values)\n",
    "plt.plot(x_values,regress_values,\"r-\")\n",
    "\n",
    "# Label plot and annotate the line equation\n",
    "plt.xlabel('Latitude')\n",
    "plt.ylabel('Humidity (%)')\n",
    "plt.annotate(line_eq,(-40,30),fontsize=15,color=\"red\")\n",
    "#plt.annotate lets you put text in graph\n",
    "\n",
    "# Print r square value\n",
    "print(f\"The r-squared is: {rvalue*rvalue}\")\n",
    "\n",
    "# Show plot\n",
    "plt.show()\n",
    "plt.savefig('SH Hum Lat.png')"
   ]
  },
  {
   "cell_type": "markdown",
   "metadata": {},
   "source": [
    "####  Northern Hemisphere - Cloudiness (%) vs. Latitude Linear Regression"
   ]
  },
  {
   "cell_type": "code",
   "execution_count": 16,
   "metadata": {},
   "outputs": [
    {
     "name": "stdout",
     "output_type": "stream",
     "text": [
      "0      84.844033\n",
      "2      73.812984\n",
      "6      83.657826\n",
      "8      85.329908\n",
      "9      86.341869\n",
      "         ...    \n",
      "561    71.919745\n",
      "562    77.261025\n",
      "563    72.338604\n",
      "564    79.030281\n",
      "566    68.351074\n",
      "Name: Latitude, Length: 403, dtype: float64\n",
      "y = 0.34x +62.73\n",
      "The r-squared is: 0.12913534738471644\n"
     ]
    },
    {
     "data": {
      "image/png": "[encoded data removed]",
      "text/plain": [
       "<Figure size 432x288 with 1 Axes>"
      ]
     },
     "metadata": {
      "needs_background": "light"
     },
     "output_type": "display_data"
    },
    {
     "data": {
      "text/plain": [
       "<Figure size 432x288 with 0 Axes>"
      ]
     },
     "metadata": {},
     "output_type": "display_data"
    }
   ],
   "source": [
    "x_values = NorthHemi_df['Latitude']\n",
    "y_values = NorthHemi_df['Humidity']\n",
    "\n",
    "(slope, intercept, rvalue, pvalue, stderr) = linregress(x_values, y_values)\n",
    "\n",
    "# Get regression values\n",
    "regress_values = x_values * slope + intercept\n",
    "print(regress_values)\n",
    "\n",
    "line_eq = \"y = \" + str(round(slope,2)) + \"x +\" + str(round(intercept,2))\n",
    "print(line_eq)\n",
    "\n",
    "plt.scatter(x_values,y_values)\n",
    "plt.plot(x_values,regress_values,\"r-\")\n",
    "\n",
    "# Label plot and annotate the line equation\n",
    "plt.xlabel('Latitude')\n",
    "plt.ylabel('Cloudiness (%)')\n",
    "plt.annotate(line_eq,(30,20),fontsize=15,color=\"red\")\n",
    "#plt.annotate lets you put text in graph\n",
    "\n",
    "# Print r square value\n",
    "print(f\"The r-squared is: {rvalue*rvalue}\")\n",
    "\n",
    "# Show plot\n",
    "plt.show()\n",
    "plt.savefig('NH Cloud Lat.png')"
   ]
  },
  {
   "cell_type": "markdown",
   "metadata": {},
   "source": [
    "####  Southern Hemisphere - Cloudiness (%) vs. Latitude Linear Regression"
   ]
  },
  {
   "cell_type": "code",
   "execution_count": 17,
   "metadata": {},
   "outputs": [
    {
     "name": "stdout",
     "output_type": "stream",
     "text": [
      "1      36.320653\n",
      "3      41.481319\n",
      "4      51.265185\n",
      "5      39.580283\n",
      "7      46.024895\n",
      "         ...    \n",
      "552    49.344243\n",
      "554    58.695151\n",
      "556    56.883692\n",
      "557    55.614676\n",
      "565    56.032705\n",
      "Name: Latitude, Length: 164, dtype: float64\n",
      "y = 0.5x +62.77\n",
      "The r-squared is: 0.03019913505960358\n"
     ]
    },
    {
     "data": {
      "image/png": "[encoded data removed]",
      "text/plain": [
       "<Figure size 432x288 with 1 Axes>"
      ]
     },
     "metadata": {
      "needs_background": "light"
     },
     "output_type": "display_data"
    },
    {
     "data": {
      "text/plain": [
       "<Figure size 432x288 with 0 Axes>"
      ]
     },
     "metadata": {},
     "output_type": "display_data"
    }
   ],
   "source": [
    "x_values = SouthHemi_df['Latitude']\n",
    "y_values = SouthHemi_df['Cloudiness']\n",
    "\n",
    "(slope, intercept, rvalue, pvalue, stderr) = linregress(x_values, y_values)\n",
    "\n",
    "# Get regression values\n",
    "regress_values = x_values * slope + intercept\n",
    "print(regress_values)\n",
    "\n",
    "line_eq = \"y = \" + str(round(slope,2)) + \"x +\" + str(round(intercept,2))\n",
    "print(line_eq)\n",
    "\n",
    "plt.scatter(x_values,y_values)\n",
    "plt.plot(x_values,regress_values,\"r-\")\n",
    "\n",
    "# Label plot and annotate the line equation\n",
    "plt.xlabel('Latitude')\n",
    "plt.ylabel('Cloudiness (%)')\n",
    "plt.annotate(line_eq,(-50,10),fontsize=15,color=\"red\")\n",
    "#plt.annotate lets you put text in graph\n",
    "\n",
    "# Print r square value\n",
    "print(f\"The r-squared is: {rvalue*rvalue}\")\n",
    "\n",
    "# Show plot\n",
    "plt.show()\n",
    "plt.savefig('SH Cloud Lat.png')"
   ]
  },
  {
   "cell_type": "markdown",
   "metadata": {},
   "source": [
    "####  Northern Hemisphere - Wind Speed (mph) vs. Latitude Linear Regression"
   ]
  },
  {
   "cell_type": "code",
   "execution_count": 18,
   "metadata": {},
   "outputs": [
    {
     "name": "stdout",
     "output_type": "stream",
     "text": [
      "0      10.212719\n",
      "2       8.619729\n",
      "6      10.041420\n",
      "8      10.282885\n",
      "9      10.429022\n",
      "         ...    \n",
      "561     8.346327\n",
      "562     9.117659\n",
      "563     8.406814\n",
      "564     9.373157\n",
      "566     7.830976\n",
      "Name: Latitude, Length: 403, dtype: float64\n",
      "y = 0.05x +7.02\n",
      "The r-squared is: 0.02034189485538333\n"
     ]
    },
    {
     "data": {
      "image/png": "[encoded data removed]",
      "text/plain": [
       "<Figure size 432x288 with 1 Axes>"
      ]
     },
     "metadata": {
      "needs_background": "light"
     },
     "output_type": "display_data"
    },
    {
     "data": {
      "text/plain": [
       "<Figure size 432x288 with 0 Axes>"
      ]
     },
     "metadata": {},
     "output_type": "display_data"
    }
   ],
   "source": [
    "x_values = NorthHemi_df['Latitude']\n",
    "y_values = NorthHemi_df['WindSpeed']\n",
    "\n",
    "(slope, intercept, rvalue, pvalue, stderr) = linregress(x_values, y_values)\n",
    "\n",
    "# Get regression values\n",
    "regress_values = x_values * slope + intercept\n",
    "print(regress_values)\n",
    "\n",
    "line_eq = \"y = \" + str(round(slope,2)) + \"x +\" + str(round(intercept,2))\n",
    "print(line_eq)\n",
    "\n",
    "plt.scatter(x_values,y_values)\n",
    "plt.plot(x_values,regress_values,\"r-\")\n",
    "\n",
    "# Label plot and annotate the line equation\n",
    "plt.xlabel('Latitude')\n",
    "plt.ylabel('WindSpeed (mph)')\n",
    "plt.annotate(line_eq,(50,35),fontsize=15,color=\"red\")\n",
    "#plt.annotate lets you put text in graph\n",
    "\n",
    "# Print r square value\n",
    "print(f\"The r-squared is: {rvalue*rvalue}\")\n",
    "\n",
    "# Show plot\n",
    "plt.show()\n",
    "plt.savefig('NH Wind Lat.png')"
   ]
  },
  {
   "cell_type": "markdown",
   "metadata": {},
   "source": [
    "####  Southern Hemisphere - Wind Speed (mph) vs. Latitude Linear Regression"
   ]
  },
  {
   "cell_type": "code",
   "execution_count": 19,
   "metadata": {},
   "outputs": [
    {
     "name": "stdout",
     "output_type": "stream",
     "text": [
      "1      13.937272\n",
      "3      12.358467\n",
      "4       9.365286\n",
      "5      12.940052\n",
      "7      10.968450\n",
      "         ...    \n",
      "552     9.952960\n",
      "554     7.092234\n",
      "556     7.646414\n",
      "557     8.034644\n",
      "565     7.906757\n",
      "Name: Latitude, Length: 164, dtype: float64\n",
      "y = -0.15x +5.85\n",
      "The r-squared is: 0.11346647321130383\n"
     ]
    },
    {
     "data": {
      "image/png": "[encoded data removed]",
      "text/plain": [
       "<Figure size 432x288 with 1 Axes>"
      ]
     },
     "metadata": {
      "needs_background": "light"
     },
     "output_type": "display_data"
    },
    {
     "data": {
      "text/plain": [
       "<Figure size 432x288 with 0 Axes>"
      ]
     },
     "metadata": {},
     "output_type": "display_data"
    }
   ],
   "source": [
    "x_values = SouthHemi_df['Latitude']\n",
    "y_values = SouthHemi_df['WindSpeed']\n",
    "\n",
    "(slope, intercept, rvalue, pvalue, stderr) = linregress(x_values, y_values)\n",
    "\n",
    "# Get regression values\n",
    "regress_values = x_values * slope + intercept\n",
    "print(regress_values)\n",
    "\n",
    "line_eq = \"y = \" + str(round(slope,2)) + \"x +\" + str(round(intercept,2))\n",
    "print(line_eq)\n",
    "\n",
    "plt.scatter(x_values,y_values)\n",
    "plt.plot(x_values,regress_values,\"r-\")\n",
    "\n",
    "# Label plot and annotate the line equation\n",
    "plt.xlabel('Latitude')\n",
    "plt.ylabel('WindSpeed (mph)')\n",
    "plt.annotate(line_eq,(-30,25),fontsize=15,color=\"red\")\n",
    "#plt.annotate lets you put text in graph\n",
    "\n",
    "# Print r square value\n",
    "print(f\"The r-squared is: {rvalue*rvalue}\")\n",
    "\n",
    "# Show plot\n",
    "plt.show()\n",
    "plt.savefig('SH Wind Lat.png')"
   ]
  },
  {
   "cell_type": "code",
   "execution_count": null,
   "metadata": {},
   "outputs": [],
   "source": []
  }
 ],
 "metadata": {
  "anaconda-cloud": {},
  "kernel_info": {
   "name": "python3"
  },
  "kernelspec": {
   "display_name": "Python 3",
   "language": "python",
   "name": "python3"
  },
  "language_info": {
   "codemirror_mode": {
    "name": "ipython",
    "version": 3
   },
   "file_extension": ".py",
   "mimetype": "text/x-python",
   "name": "python",
   "nbconvert_exporter": "python",
   "pygments_lexer": "ipython3",
   "version": "3.7.4"
  },
  "latex_envs": {
   "LaTeX_envs_menu_present": true,
   "autoclose": false,
   "autocomplete": true,
   "bibliofile": "biblio.bib",
   "cite_by": "apalike",
   "current_citInitial": 1,
   "eqLabelWithNumbers": true,
   "eqNumInitial": 1,
   "hotkeys": {
    "equation": "Ctrl-E",
    "itemize": "Ctrl-I"
   },
   "labels_anchors": false,
   "latex_user_defs": false,
   "report_style_numbering": false,
   "user_envs_cfg": false
  },
  "nteract": {
   "version": "0.12.3"
  }
 },
 "nbformat": 4,
 "nbformat_minor": 2
}
